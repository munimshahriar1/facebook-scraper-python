{
 "cells": [
  {
   "cell_type": "code",
   "execution_count": 70,
   "metadata": {},
   "outputs": [],
   "source": [
    "import time\n",
    "start_time = time.time()"
   ]
  },
  {
   "cell_type": "code",
   "execution_count": 71,
   "metadata": {},
   "outputs": [],
   "source": [
    "from selenium import webdriver\n",
    "from selenium.webdriver.common.keys import Keys\n",
    "from selenium.webdriver.support import expected_conditions as EC\n",
    "from selenium.webdriver.common.by import By\n",
    "from selenium.webdriver.support.wait import WebDriverWait\n",
    "from webdriver_manager.chrome import ChromeDriverManager\n",
    "import csv\n",
    "import pandas as pd\n",
    "from bs4 import BeautifulSoup as bs4\n",
    "import re"
   ]
  },
  {
   "cell_type": "code",
   "execution_count": 72,
   "metadata": {},
   "outputs": [
    {
     "name": "stdout",
     "output_type": "stream",
     "text": [
      "\n"
     ]
    },
    {
     "name": "stderr",
     "output_type": "stream",
     "text": [
      "[WDM] - ====== WebDriver manager ======\n",
      "[WDM] - Current google-chrome version is 101.0.4951\n",
      "[WDM] - Get LATEST chromedriver version for 101.0.4951 google-chrome\n",
      "[WDM] - Driver [C:\\Users\\saidu\\.wdm\\drivers\\chromedriver\\win32\\101.0.4951.41\\chromedriver.exe] found in cache\n"
     ]
    }
   ],
   "source": [
    "chrome_options = webdriver.ChromeOptions()\n",
    "chrome_options.headless = True\n",
    "prefs = {\"profile.default_content_setting_values.notifications\" : 2}\n",
    "chrome_options.add_experimental_option(\"prefs\",prefs)\n",
    "driver = webdriver.Chrome(ChromeDriverManager().install(), options=chrome_options)"
   ]
  },
  {
   "cell_type": "code",
   "execution_count": 73,
   "metadata": {},
   "outputs": [
    {
     "data": {
      "text/plain": [
       "['https://www.facebook.com/search/pages/?q=car%20repair%20new%20york%20',\n",
       " 'https://www.facebook.com/search/pages/?q=car%20repair%20canada%20',\n",
       " 'https://www.facebook.com/search/pages/?q=house%20canada%20',\n",
       " 'https://www.facebook.com/search/pages/?q=house%20new%20york%20',\n",
       " 'https://www.facebook.com/search/pages/?q=hotel%20%20boston%20']"
      ]
     },
     "execution_count": 73,
     "metadata": {},
     "output_type": "execute_result"
    }
   ],
   "source": [
    "# Saving Query Data from csv to list\n",
    "def savingQueryData(csvFile):\n",
    "    queryDataCsv= pd.read_csv(csvFile)\n",
    "    queryList = [i for i in queryDataCsv[\"query\"]]\n",
    "    locationList = [i for i in queryDataCsv[\"location\"]]\n",
    "    return queryList, locationList\n",
    "    \n",
    "def savingLoginData(csvFile):\n",
    "    loginDataCsv = pd.read_csv(csvFile)\n",
    "    emailList = [i for i in loginDataCsv[\"email\"]]\n",
    "    passwordList = [i for i in loginDataCsv[\"password\"]]\n",
    "    return emailList, passwordList\n",
    "\n",
    "# Return searchable facebook url\n",
    "def facebook_search_url(queryList, locationList):\n",
    "    search_url_list = []\n",
    "    for j in range(len(queryList)):\n",
    "        splitQuery = queryList[j].split(\" \")\n",
    "        splitLocation = locationList[j].split(\" \")\n",
    "\n",
    "        searchUrl = \"https://www.facebook.com/search/pages/?q=\"\n",
    "        for i in splitQuery:\n",
    "            searchUrl = searchUrl + i + \"%20\"\n",
    "        for i in splitLocation:\n",
    "            searchUrl = searchUrl + i + \"%20\"\n",
    "        search_url_list.append(searchUrl)\n",
    "    return search_url_list\n",
    "\n",
    "queryList, locationList = savingQueryData(\"queries.csv\")\n",
    "search_url_list = facebook_search_url(queryList, locationList)\n",
    "\n",
    "search_url_list"
   ]
  },
  {
   "cell_type": "code",
   "execution_count": 74,
   "metadata": {},
   "outputs": [],
   "source": [
    "def generalInfo_aboutPage():\n",
    "    soup = bs4(driver.page_source, \"html.parser\")\n",
    "    list_info = soup.find_all(\"div\", class_=\"je60u5p8\")\n",
    "\n",
    "    info = \"\"\n",
    "    for i in list_info[0].findAll(\"span\"):\n",
    "        if not i.text in info:\n",
    "            info = info + i.text + \" \"\n",
    "    info = info.replace(\"General\", \"\")\n",
    "    return info\n",
    "\n",
    "def generalInfo2_aboutPage():\n",
    "    soup = bs4(driver.page_source, \"html.parser\")\n",
    "    list_info = soup.find_all(\"div\", class_=\"je60u5p8\")\n",
    "\n",
    "    info = \"\"\n",
    "    for i in list_info[1].findAll(\"span\"):\n",
    "        if not i.text in info:\n",
    "            info = info + i.text + \" \"\n",
    "    return info\n",
    "\n",
    "def generalInfo3_aboutPage():\n",
    "    soup = bs4(driver.page_source, \"html.parser\")\n",
    "    list_info = soup.find_all(\"div\", class_=\"je60u5p8\")\n",
    "\n",
    "    info = \"\"\n",
    "    for i in list_info[2].findAll(\"span\"):\n",
    "        if not i.text in info:\n",
    "            info = info + i.text + \" \"\n",
    "    return info\n",
    "\n",
    "def generalInfo4_aboutPage():\n",
    "    soup = bs4(driver.page_source, \"html.parser\")\n",
    "    list_info = soup.find_all(\"div\", class_=\"je60u5p8\")\n",
    "\n",
    "    info = \"\"\n",
    "    for i in list_info[3].findAll(\"span\"):\n",
    "        if not i.text in info:\n",
    "            info = info + i.text + \" \"\n",
    "    return info\n",
    "\n",
    "def collectURL(string):\n",
    "  \n",
    "    # findall() has been used \n",
    "    # with valid conditions for urls in string\n",
    "    regex = r\"(?i)\\b((?:https?://|www\\d{0,3}[.]|[a-z0-9.\\-]+[.][a-z]{2,4}/)(?:[^\\s()<>]+|\\(([^\\s()<>]+|(\\([^\\s()<>]+\\)))*\\))+(?:\\(([^\\s()<>]+|(\\([^\\s()<>]+\\)))*\\)|[^\\s`!()\\[\\]{};:'\\\".,<>?«»“”‘’]))\"\n",
    "    url = re.findall(regex,string)      \n",
    "    return [x[0] for x in url]\n",
    "\n",
    "def collectEMAIL(string):\n",
    "    match = re.findall(r'[\\w.+-]+@[\\w-]+\\.[\\w.-]+', string)\n",
    "    return match\n",
    "\n",
    "def mainScraper():\n",
    "    #Html of about page\n",
    "    html = driver.page_source\n",
    "    soup = bs4(html, \"html.parser\")\n",
    "    target_listing = soup.find_all(\"div\", class_=\"sjgh65i0\")\n",
    "\n",
    "    master_list = []\n",
    "    for idx,i in enumerate(target_listing):\n",
    "    # Single Listing\n",
    "        data_dict={}\n",
    "        try:\n",
    "            page_name = i.a[\"aria-label\"]\n",
    "            facebook_link = i.a[\"href\"]\n",
    "            data_dict[\"Page Name\"] = page_name\n",
    "            data_dict[\"Facebook Link\"] = facebook_link\n",
    "            facebook_link_aboutPage = facebook_link.replace(\"?__tn__=%3C\", \"about\")\n",
    "            if not \"/about\" in facebook_link_aboutPage:\n",
    "                facebook_link_aboutPage = facebook_link_aboutPage.replace(\"about\", \"/about\")\n",
    "            print(facebook_link_aboutPage, \"\\n\")\n",
    "            if \"facebook.com\" in facebook_link_aboutPage:\n",
    "                driver.get(facebook_link_aboutPage)\n",
    "            time.sleep(5)\n",
    "\n",
    "            #Accessing each lead's about page\n",
    "            try:\n",
    "                data_dict[\"Url\"] = collectURL(generalInfo_aboutPage()) + collectURL(generalInfo2_aboutPage()) + collectURL(generalInfo3_aboutPage()) + collectURL(generalInfo4_aboutPage())\n",
    "                data_dict[\"Email Address\"] = collectEMAIL(generalInfo_aboutPage()) + collectEMAIL(generalInfo2_aboutPage()) + collectEMAIL(generalInfo3_aboutPage()) + collectEMAIL(generalInfo4_aboutPage())\n",
    "                data_dict[\"General Information\"] = generalInfo_aboutPage()\n",
    "                data_dict[\"General Information_2\"] = generalInfo2_aboutPage()\n",
    "                data_dict[\"General Information_3\"] = generalInfo3_aboutPage()\n",
    "                data_dict[\"General Information_4\"] = generalInfo4_aboutPage()\n",
    "            except IndexError:\n",
    "                pass\n",
    "        except:\n",
    "            print(\"Error\")\n",
    "        master_list.append(data_dict)\n",
    "        time.sleep(5)\n",
    "        print(f\"Percentage done: {idx/len(target_listing)*100}%\")\n",
    "    df = pd.DataFrame(master_list)\n",
    "    return df\n",
    "    "
   ]
  },
  {
   "cell_type": "code",
   "execution_count": 75,
   "metadata": {},
   "outputs": [],
   "source": [
    "emailList, passwordList = savingLoginData(\"login.csv\")\n",
    "\n",
    "driver.get(\"https://www.facebook.com\")\n",
    "username = WebDriverWait(driver, 10).until(EC.element_to_be_clickable((By.CSS_SELECTOR, \"input[name='email']\")))\n",
    "password = WebDriverWait(driver, 10).until(EC.element_to_be_clickable((By.CSS_SELECTOR, \"input[name='pass']\")))\n",
    "\n",
    "username.clear()\n",
    "username.send_keys(emailList[0])\n",
    "password.clear()\n",
    "password.send_keys(passwordList[0])\n",
    "\n",
    "#target the login button and click it\n",
    "button = WebDriverWait(driver, 2).until(EC.element_to_be_clickable((By.CSS_SELECTOR, \"button[type='submit']\"))).click()"
   ]
  },
  {
   "cell_type": "code",
   "execution_count": null,
   "metadata": {},
   "outputs": [
    {
     "name": "stdout",
     "output_type": "stream",
     "text": [
      "https://web.facebook.com/Car-Repair-NYC-New-York-City-Auto-Repair-Manhattan-NY-248902591857537/about \n",
      "\n",
      "Percentage done: 0.0%\n",
      "https://web.facebook.com/nycarassociation/about \n",
      "\n",
      "Percentage done: 3.125%\n",
      "https://web.facebook.com/Windshield-Replacement-Auto-Glass-Repair-New-York-NY-167774173367610/about \n",
      "\n",
      "Percentage done: 6.25%\n",
      "https://web.facebook.com/Certified-Auto-Repair-of-New-York-Mills-Inc-282732623054/about \n",
      "\n",
      "Percentage done: 9.375%\n",
      "https://web.facebook.com/nydaily/about \n",
      "\n",
      "Percentage done: 12.5%\n",
      "https://web.facebook.com/Best-Auto-Repair-NYC-Towing-Service-Uptown-Auto-Repair-New-York-112361068825211/about \n",
      "\n",
      "Percentage done: 15.625%\n",
      "Error\n",
      "Percentage done: 18.75%\n",
      "https://web.facebook.com/AutoClinicofMahopac/about \n",
      "\n",
      "Percentage done: 21.875%\n",
      "https://web.facebook.com/blastauto/about \n",
      "\n"
     ]
    }
   ],
   "source": [
    "time.sleep(10)\n",
    "for idx,url in enumerate(search_url_list[0:2]):\n",
    "    driver.get(url)\n",
    "    time.sleep(3)\n",
    "    #Click See More\n",
    "    #driver.find_element_by_css_selector(\"[aria-label='See more']\").click()\n",
    "    for i in range(3):\n",
    "        time.sleep(3)\n",
    "        driver.execute_script(\"window.scrollTo(0,document.body.scrollHeight)\") \n",
    "#     TODO: Solution for House Canda Sraping - Posts/Pages/Group ?\n",
    "    df = mainScraper()\n",
    "    queryList, locationList = savingQueryData(\"queries.csv\")\n",
    "    df.to_csv(f\"{queryList[idx]} {locationList[idx]}.csv\")\n",
    "#     break"
   ]
  },
  {
   "cell_type": "code",
   "execution_count": null,
   "metadata": {},
   "outputs": [],
   "source": [
    "df"
   ]
  },
  {
   "cell_type": "code",
   "execution_count": null,
   "metadata": {},
   "outputs": [],
   "source": [
    "driver.quit()"
   ]
  },
  {
   "cell_type": "code",
   "execution_count": null,
   "metadata": {},
   "outputs": [],
   "source": [
    "print(\"Time Taken\",  (time.time() - start_time)/60, \" min\")"
   ]
  },
  {
   "cell_type": "code",
   "execution_count": null,
   "metadata": {},
   "outputs": [],
   "source": []
  }
 ],
 "metadata": {
  "kernelspec": {
   "display_name": "Python 3",
   "language": "python",
   "name": "python3"
  },
  "language_info": {
   "codemirror_mode": {
    "name": "ipython",
    "version": 3
   },
   "file_extension": ".py",
   "mimetype": "text/x-python",
   "name": "python",
   "nbconvert_exporter": "python",
   "pygments_lexer": "ipython3",
   "version": "3.8.0"
  }
 },
 "nbformat": 4,
 "nbformat_minor": 4
}
